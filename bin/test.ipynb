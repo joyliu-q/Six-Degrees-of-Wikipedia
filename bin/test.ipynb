{
 "cells": [
  {
   "cell_type": "code",
   "execution_count": 2,
   "metadata": {},
   "outputs": [],
   "source": [
    "from bs4 import BeautifulSoup, SoupStrainer\n",
    "import numpy as np\n",
    "from urllib.request import urlopen\n",
    "from urllib.error import URLError, HTTPError\n",
    "import time \n",
    "import sys\n",
    "import concurrent\n",
    "from concurrent.futures import ProcessPoolExecutor, ThreadPoolExecutor, Future, as_completed, wait\n",
    "import argparse"
   ]
  },
  {
   "cell_type": "code",
   "execution_count": 40,
   "metadata": {},
   "outputs": [],
   "source": [
    "only_a_tags = SoupStrainer(\"a\", href=lambda href: href and href.startswith('/wiki/'))\n",
    "wee = 0\n",
    "def load(url):\n",
    "    global wee\n",
    "    response = urlopen(\"https://en.wikipedia.org/wiki/Bacon\")\n",
    "    soup = BeautifulSoup(response, 'html.parser', parse_only = only_a_tags)\n",
    "    wee += 1"
   ]
  },
  {
   "cell_type": "code",
   "execution_count": 41,
   "metadata": {},
   "outputs": [
    {
     "name": "stdout",
     "output_type": "stream",
     "text": [
      "6.051146984100342\n"
     ]
    }
   ],
   "source": [
    "dabbers = [\"\"]* 10\n",
    "start = time.time()\n",
    "with ThreadPoolExecutor(max_workers=4) as executor:\n",
    "    [executor.map(load(\"dab\")) for dab in dabbers]\n",
    "print(time.time() - start)"
   ]
  },
  {
   "cell_type": "code",
   "execution_count": null,
   "metadata": {},
   "outputs": [],
   "source": [
    "start = time.time()\n",
    "for i in range(10):\n",
    "    load(\"ok boomer\")\n",
    "print(time.time() - start)"
   ]
  },
  {
   "cell_type": "code",
   "execution_count": null,
   "metadata": {},
   "outputs": [],
   "source": [
    "dabbers = [\"\"]* 10\n",
    "start = time.time()\n",
    "with ProcessPoolExecutor(max_workers=None) as executor:\n",
    "    [executor.map(load(\"dab\")) for dab in dabbers]\n",
    "print(time.time() - start)"
   ]
  },
  {
   "cell_type": "code",
   "execution_count": null,
   "metadata": {},
   "outputs": [],
   "source": [
    "dabbers = [\"\"]* 10\n",
    "start = time.time()\n",
    "with ThreadPoolExecutor(max_workers=4) as executor:\n",
    "    for page in executor.map(load(\"dab\"),dabbers):\n",
    "        print(\"wee\")\n",
    "print(time.time() - start)"
   ]
  },
  {
   "cell_type": "code",
   "execution_count": null,
   "metadata": {},
   "outputs": [],
   "source": [
    "dabbers = [\"\"]* 10\n",
    "start = time.time()\n",
    "while wee != 9:\n",
    "    with ThreadPoolExecutor(max_workers=4) as executor:\n",
    "        for page in executor.map(load(\"dab\")):\n",
    "            print(wee)\n",
    "print(time.time() - start)"
   ]
  },
  {
   "cell_type": "code",
   "execution_count": 17,
   "metadata": {},
   "outputs": [
    {
     "name": "stdout",
     "output_type": "stream",
     "text": [
      "Never-gonna_Give_You_Up\n"
     ]
    }
   ],
   "source": [
    "import string\n",
    "fromtitle = \"never-gonna give you up\"\n",
    "fromtitle = string.capwords(fromtitle).replace(\" \", \"_\")\n",
    "print(fromtitle)"
   ]
  },
  {
   "cell_type": "code",
   "execution_count": null,
   "metadata": {},
   "outputs": [],
   "source": []
  },
  {
   "cell_type": "code",
   "execution_count": null,
   "metadata": {},
   "outputs": [],
   "source": []
  }
 ],
 "metadata": {
  "kernelspec": {
   "display_name": "Python 3",
   "language": "python",
   "name": "python3"
  },
  "language_info": {
   "codemirror_mode": {
    "name": "ipython",
    "version": 3
   },
   "file_extension": ".py",
   "mimetype": "text/x-python",
   "name": "python",
   "nbconvert_exporter": "python",
   "pygments_lexer": "ipython3",
   "version": "3.8.5"
  }
 },
 "nbformat": 4,
 "nbformat_minor": 4
}
