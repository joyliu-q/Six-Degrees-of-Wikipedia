{
 "cells": [
  {
   "cell_type": "code",
   "execution_count": 40,
   "metadata": {},
   "outputs": [],
   "source": [
    "# Import\n",
    "from bs4 import BeautifulSoup, SoupStrainer\n",
    "import numpy as np\n",
    "from urllib.request import urlopen\n",
    "from urllib.error import URLError, HTTPError\n",
    "import time \n",
    "import sys\n",
    "import grequests\n",
    "import concurrent\n",
    "from concurrent.futures import ProcessPoolExecutor, ThreadPoolExecutor, Future, as_completed, wait\n",
    "import argparse\n",
    "import string"
   ]
  },
  {
   "cell_type": "code",
   "execution_count": 41,
   "metadata": {},
   "outputs": [],
   "source": [
    "# Viualization Imports\n",
    "import networkx as nx\n",
    "import matplotlib.pyplot as plt"
   ]
  },
  {
   "cell_type": "code",
   "execution_count": 42,
   "metadata": {},
   "outputs": [],
   "source": [
    "# Argparse Set-up\n",
    "#Omit this part lmao"
   ]
  },
  {
   "cell_type": "code",
   "execution_count": 43,
   "metadata": {},
   "outputs": [],
   "source": [
    "# Tree Visualization\n",
    "G = nx.DiGraph()\n",
    "\n",
    "# Changable Variables\n",
    "USE_THREADPOOL = False\n",
    "MAKE_GRAPH = True"
   ]
  },
  {
   "cell_type": "code",
   "execution_count": 44,
   "metadata": {},
   "outputs": [],
   "source": [
    "# Dismissed links are links shared by all sites and do not factor into 6 degrees of separation\n",
    "dismissed_links = [\"Talk\", \"Categories\", \"Contributions\", \"Article\", \"Read\", \"Main page\", \"Contents\", \"Current events\", \"Random article\", \"About Wikipedia\", \"Help\", \"Community portal\", \"Recent changes\", \"Upload file\", \"What links here\", \"Related changes\", \"Upload file\", \"Special pages\", \"About Wikipedia\", \"Disclaimers\", \"Articles with short description\", \"Short description matches Wikidata\", \"Wikipedia indefinitely semi-protected biographies of living people\", \"Use mdy dates from October 2016\", \"Articles with hCards\", \"BLP articles lacking sources from October 2017\", \"All BLP articles lacking sources\", \"Commons category link from Wikidata\", \"Articles with IBDb links\", \"Internet Off-Broadway Database person ID same as Wikidata\", \"Short description is different from Wikidata\", \"PMID\", \"ISBN\", \"doi\"] \n",
    "degree = 0\n",
    "path = []\n",
    "path_found = False\n",
    "current_generation = []\n",
    "child_generation = []"
   ]
  },
  {
   "cell_type": "code",
   "execution_count": 45,
   "metadata": {},
   "outputs": [],
   "source": [
    "# Configure args.fromtitle and args.totitle\n",
    "fromtitle = \"KEVIN bacon\"\n",
    "fromtitle = string.capwords(fromtitle.lower()).replace(\" \", \"_\")\n",
    "totitle = \"neo-nOIR\"\n",
    "totitle = string.capwords(totitle.lower()).replace(\" \", \"_\")"
   ]
  },
  {
   "cell_type": "code",
   "execution_count": 46,
   "metadata": {},
   "outputs": [],
   "source": [
    "# BS4 optimization\n",
    "only_a_tags = SoupStrainer(\"a\", href=lambda href: href and href.startswith('/wiki/'))"
   ]
  },
  {
   "cell_type": "code",
   "execution_count": 47,
   "metadata": {},
   "outputs": [],
   "source": [
    "# Define Node\n",
    "class Node:\n",
    "    def __init__(self, title, url):\n",
    "        self.title = title\n",
    "        self.url = url\n",
    "        self.parent = None\n",
    "        self.children = []\n",
    "        self.searched = False\n",
    "\n",
    "    def get_url(self):\n",
    "        return self.url\n",
    "\n",
    "    # find_children - A function that returns all relevant referrals by Wikipedia\n",
    "    def find_children(self):\n",
    "        response = urlopen(self.url)\n",
    "        soup = BeautifulSoup(response, 'html.parser', parse_only = only_a_tags)\n",
    "        for entry in soup:\n",
    "            if str(entry.contents) != \"[]\":\n",
    "                if \"/wiki/Help:\" in entry.contents[0] or \"Wikipedia articles with\" in entry.contents[0] or \"[<\" in entry.contents[0] or \"<\" in str(entry.contents[0]) or entry.contents[0] == None:\n",
    "                    continue\n",
    "                else:\n",
    "                    if entry.contents[0] in dismissed_links:\n",
    "                        continue\n",
    "                    # If relevant, add to entries\n",
    "                    child_node = Node(entry.contents[0],\"https://en.wikipedia.org\" + entry[\"href\"])\n",
    "                    child_node.parent = self\n",
    "                    # Visualization\n",
    "                    self.children.append(child_node)"
   ]
  },
  {
   "cell_type": "code",
   "execution_count": 48,
   "metadata": {},
   "outputs": [],
   "source": [
    "def attempt_match_children(current_node, to_node):\n",
    "    global child_generation\n",
    "    global path \n",
    "    global path_found\n",
    "    global USE_THREADPOOL\n",
    "\n",
    "    #if USE_THREADPOOL == False:\n",
    "        #current_node.find_children()\n",
    "\n",
    "    current_node.searched = True\n",
    "    \n",
    "    # Check children for any matches w/ to_node \n",
    "    for child_node in current_node.children:\n",
    "        # Check if child_node was already searched\n",
    "        if child_node.searched == False:\n",
    "            # Add child_node to new generation\n",
    "            child_generation.append(child_node)\n",
    "            # If child_node is the to_node, search is over\n",
    "            if child_node.url == to_node.url:\n",
    "                path.append(current_node)\n",
    "                path.append(child_node)\n",
    "                path_found = True\n",
    "                return True\n",
    "    return False"
   ]
  },
  {
   "cell_type": "code",
   "execution_count": 49,
   "metadata": {},
   "outputs": [],
   "source": [
    "# Grequests exception handler\n",
    "def exception_handler(request, exception):\n",
    "    print(\"Request failed\")\n",
    "    \n",
    "# Determine amount of degrees and commonalities, with origin and end being urls\n",
    "def determine_path(from_node, to_node):\n",
    "    global path_found\n",
    "    global current_generation\n",
    "    global path\n",
    "    global degree\n",
    "    global child_generation \n",
    "    global USE_THREADPOOL\n",
    "\n",
    "    # 0th degree\n",
    "    if from_node.url == to_node.url:\n",
    "        path_found == True\n",
    "        return path\n",
    "\n",
    "    # 1st degree\n",
    "    degree += 1\n",
    "    from_node.find_children()\n",
    "    attempt_match_children(from_node, to_node)\n",
    "\n",
    "    # 2+ degree: if none of the children match, continue to search through loop\n",
    "    if path_found == False:\n",
    "        current_node = from_node\n",
    "        current_generation = current_node.children\n",
    "        path.append(current_node)\n",
    "        \n",
    "        while path_found == False: \n",
    "            degree += 1\n",
    "            child_generation = []\n",
    "            \n",
    "            # Find children\n",
    "            rs = [grequests.get(sibling_node.url) for sibling_node in current_generation]\n",
    "            resp = grequests.map(rs, exception_handler=exception_handler)\n",
    "            for r in resp:\n",
    "                r.url\n",
    "                soup = BeautifulSoup(r.text, 'html.parser', parse_only = only_a_tags)\n",
    "                for entry in soup:\n",
    "                    if str(entry.contents) != \"[]\":\n",
    "                        if \"/wiki/Help:\" in entry.contents[0] or \"Wikipedia articles with\" in entry.contents[0] or \"[<\" in entry.contents[0] or \"<\" in str(entry.contents[0]) or entry.contents[0] == None:\n",
    "                            continue\n",
    "                        else:\n",
    "                            if entry.contents[0] in dismissed_links:\n",
    "                                continue\n",
    "                            # If relevant, add to entries\n",
    "                            child_node = Node(entry.contents[0],\"https://en.wikipedia.org\" + entry[\"href\"])\n",
    "                            child_node.parent = self\n",
    "                            # Visualization\n",
    "                            self.children.append(child_node)\n",
    "\n",
    "            # Keep Looping through each sibling_node and check sibling's children\n",
    "            for sibling_node in current_generation:\n",
    "                if sibling_node.searched == False:\n",
    "                    attempt_match_children(sibling_node, to_node)\n",
    "                    # If found match in current degree\n",
    "                    if path_found == True:\n",
    "                        return sibling_node\n",
    "            # If none of the siblings in the level matched, move to higher degree\n",
    "            if path_found == False:\n",
    "                current_generation = child_generation\n",
    "                child_generation = []\n",
    "    return path"
   ]
  },
  {
   "cell_type": "code",
   "execution_count": 50,
   "metadata": {},
   "outputs": [],
   "source": [
    "def main():\n",
    "    global current_generation\n",
    "    start = time.time()\n",
    "\n",
    "    #root = Node(\"Kevin Bacon\", \"https://en.wikipedia.org/wiki/Kevin_Bacon\")\n",
    "    #target = Node(\"Neo-noir\", \"https://en.wikipedia.org/wiki/Hollywood\")\n",
    "\n",
    "    # Find/Check Valid Root and Target URL\n",
    "    try: \n",
    "        urlopen(\"https://en.wikipedia.org/wiki/\" + fromtitle)\n",
    "        print(\"https://en.wikipedia.org/wiki/\" + fromtitle)\n",
    "        print(\"https://en.wikipedia.org/wiki/\" + totitle)\n",
    "        urlopen(\"https://en.wikipedia.org/wiki/\" + totitle)\n",
    "    except HTTPError:\n",
    "        print(\"HTTPError: Invalid Name\")\n",
    "        sys.exit(1)\n",
    "    except URLError:\n",
    "        print(\"URLError: Invalid Name\")\n",
    "        sys.exit(1)\n",
    "    except ValueError:\n",
    "        print(\"ValueError: Invalid Name\")\n",
    "        sys.exit(1)\n",
    "\n",
    "    root = Node(fromtitle.title(), \"https://en.wikipedia.org/wiki/\" + fromtitle)\n",
    "    target = Node(totitle.title(), \"https://en.wikipedia.org/wiki/\" + totitle)\n",
    "    \n",
    "    current_generation.append(root)\n",
    "    determine_path(root, target)\n",
    "    \n",
    "    # Present Data\n",
    "    path_names = []\n",
    "    for node in path:\n",
    "        path_names.append(node.title)\n",
    "    print(time.time() - start)\n",
    "    print(\"Path: \" + str(path_names))\n",
    "    print(\"Degree: \" + str(degree))\n",
    "\n",
    "    # Visualization of Path\n",
    "    if MAKE_GRAPH:\n",
    "        for i, node in enumerate(path):\n",
    "            G.add_node(node.title)\n",
    "            if i > 0:\n",
    "                G.add_edge(path[i-1].title, node.title)\n",
    "            print(node.url)\n",
    "        nx.draw(G, with_labels=True)\n",
    "        plt.show()"
   ]
  },
  {
   "cell_type": "code",
   "execution_count": 51,
   "metadata": {},
   "outputs": [
    {
     "name": "stdout",
     "output_type": "stream",
     "text": [
      "https://en.wikipedia.org/wiki/Kevin_Bacon\n",
      "https://en.wikipedia.org/wiki/Neo-noir\n",
      "6.810368061065674\n",
      "Path: ['Kevin_Bacon', 'Mystic River', 'neo-noir']\n",
      "Degree: 2\n",
      "https://en.wikipedia.org/wiki/Kevin_Bacon\n",
      "https://en.wikipedia.org/wiki/Mystic_River_(film)\n",
      "https://en.wikipedia.org/wiki/Neo-noir\n"
     ]
    },
    {
     "data": {
      "image/png": "[encoded data removed]",
      "text/plain": [
       "<Figure size 432x288 with 1 Axes>"
      ]
     },
     "metadata": {},
     "output_type": "display_data"
    }
   ],
   "source": [
    "if __name__ == '__main__':\n",
    "    main()"
   ]
  },
  {
   "cell_type": "code",
   "execution_count": null,
   "metadata": {},
   "outputs": [],
   "source": []
  }
 ],
 "metadata": {
  "kernelspec": {
   "display_name": "Python 3",
   "language": "python",
   "name": "python3"
  },
  "language_info": {
   "codemirror_mode": {
    "name": "ipython",
    "version": 3
   },
   "file_extension": ".py",
   "mimetype": "text/x-python",
   "name": "python",
   "nbconvert_exporter": "python",
   "pygments_lexer": "ipython3",
   "version": "3.8.5"
  }
 },
 "nbformat": 4,
 "nbformat_minor": 4
}
