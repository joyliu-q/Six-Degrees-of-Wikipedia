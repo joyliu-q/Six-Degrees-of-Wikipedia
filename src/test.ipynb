{
 "cells": [
  {
   "cell_type": "code",
   "execution_count": 2,
   "metadata": {},
   "outputs": [],
   "source": [
    "from bs4 import BeautifulSoup, SoupStrainer\n",
    "import numpy as np\n",
    "from urllib.request import urlopen\n",
    "from urllib.error import URLError, HTTPError\n",
    "import time \n",
    "import sys\n",
    "import concurrent\n",
    "from concurrent.futures import ProcessPoolExecutor, ThreadPoolExecutor, Future, as_completed, wait\n",
    "import argparse\n",
    "import grequests\n",
    "\n",
    "dismissed_links = [\"Talk\", \"Categories\", \"Contributions\", \"Article\", \"Read\", \"Main page\", \"Contents\", \"Current events\", \"Random article\", \"About Wikipedia\", \"Help\", \"Community portal\", \"Recent changes\", \"Upload file\", \"What links here\", \"Related changes\", \"Upload file\", \"Special pages\", \"About Wikipedia\", \"Disclaimers\", \"Articles with short description\", \"Short description matches Wikidata\", \"Wikipedia indefinitely semi-protected biographies of living people\", \"Use mdy dates from October 2016\", \"Articles with hCards\", \"BLP articles lacking sources from October 2017\", \"All BLP articles lacking sources\", \"Commons category link from Wikidata\", \"Articles with IBDb links\", \"Internet Off-Broadway Database person ID same as Wikidata\", \"Short description is different from Wikidata\", \"PMID\", \"ISBN\", \"doi\"] "
   ]
  },
  {
   "cell_type": "code",
   "execution_count": 3,
   "metadata": {},
   "outputs": [],
   "source": [
    "only_a_tags = SoupStrainer(\"a\", href=lambda href: href and href.startswith('/wiki/'))\n",
    "wee = 0\n",
    "def load(url):\n",
    "    global wee\n",
    "    response = urlopen(\"https://en.wikipedia.org/wiki/Bacon\")\n",
    "    soup = BeautifulSoup(response, 'html.parser', parse_only = only_a_tags)\n",
    "    wee += 1"
   ]
  },
  {
   "cell_type": "code",
   "execution_count": 41,
   "metadata": {},
   "outputs": [
    {
     "name": "stdout",
     "output_type": "stream",
     "text": [
      "6.051146984100342\n"
     ]
    }
   ],
   "source": [
    "dabbers = [\"\"]* 10\n",
    "start = time.time()\n",
    "with ThreadPoolExecutor(max_workers=4) as executor:\n",
    "    [executor.map(load(\"dab\")) for dab in dabbers]\n",
    "print(time.time() - start)"
   ]
  },
  {
   "cell_type": "code",
   "execution_count": 3,
   "metadata": {},
   "outputs": [
    {
     "name": "stdout",
     "output_type": "stream",
     "text": [
      "6.200716018676758\n"
     ]
    }
   ],
   "source": [
    "start = time.time()\n",
    "for i in range(10):\n",
    "    load(\"ok boomer\")\n",
    "print(time.time() - start)"
   ]
  },
  {
   "cell_type": "code",
   "execution_count": 4,
   "metadata": {},
   "outputs": [
    {
     "name": "stdout",
     "output_type": "stream",
     "text": [
      "6.390448093414307\n"
     ]
    }
   ],
   "source": [
    "dabbers = [\"\"]* 10\n",
    "start = time.time()\n",
    "with ProcessPoolExecutor(max_workers=None) as executor:\n",
    "    [executor.map(load(\"dab\")) for dab in dabbers]\n",
    "print(time.time() - start)"
   ]
  },
  {
   "cell_type": "code",
   "execution_count": null,
   "metadata": {},
   "outputs": [],
   "source": [
    "def exception_handler(request, exception):\n",
    "    print(\"Request failed\")\n",
    "\n",
    "links = [\"https://en.wikipedia.org/wiki/Kevin_Bacon\"]* 5\n",
    "start = time.time()\n",
    "rs = [grequests.get(link) for link in links]\n",
    "resp = grequests.map(rs, exception_handler=exception_handler)\n",
    "for r in resp:\n",
    "    print(r.url)\n",
    "    soup = BeautifulSoup(r.text, 'html.parser', parse_only = only_a_tags)\n",
    "print(time.time() - start)"
   ]
  },
  {
   "cell_type": "code",
   "execution_count": 5,
   "metadata": {},
   "outputs": [
    {
     "name": "stdout",
     "output_type": "stream",
     "text": [
      "Grequests time: 1.5511620044708252\n"
     ]
    },
    {
     "ename": "AttributeError",
     "evalue": "'Response' object has no attribute 'link'",
     "output_type": "error",
     "traceback": [
      "\u001b[0;31m---------------------------------------------------------------------------\u001b[0m",
      "\u001b[0;31mAttributeError\u001b[0m                            Traceback (most recent call last)",
      "\u001b[0;32m<ipython-input-5-53902a1c304f>\u001b[0m in \u001b[0;36m<module>\u001b[0;34m\u001b[0m\n\u001b[1;32m     13\u001b[0m \u001b[0;32mfor\u001b[0m \u001b[0mr\u001b[0m \u001b[0;32min\u001b[0m \u001b[0mresp\u001b[0m\u001b[0;34m:\u001b[0m\u001b[0;34m\u001b[0m\u001b[0;34m\u001b[0m\u001b[0m\n\u001b[1;32m     14\u001b[0m     \u001b[0mBS_time\u001b[0m \u001b[0;34m=\u001b[0m \u001b[0mtime\u001b[0m\u001b[0;34m.\u001b[0m\u001b[0mtime\u001b[0m\u001b[0;34m(\u001b[0m\u001b[0;34m)\u001b[0m\u001b[0;34m\u001b[0m\u001b[0;34m\u001b[0m\u001b[0m\n\u001b[0;32m---> 15\u001b[0;31m     \u001b[0mprint\u001b[0m\u001b[0;34m(\u001b[0m\u001b[0mr\u001b[0m\u001b[0;34m.\u001b[0m\u001b[0mlink\u001b[0m\u001b[0;34m)\u001b[0m\u001b[0;34m\u001b[0m\u001b[0;34m\u001b[0m\u001b[0m\n\u001b[0m\u001b[1;32m     16\u001b[0m     \u001b[0msoup\u001b[0m \u001b[0;34m=\u001b[0m \u001b[0mBeautifulSoup\u001b[0m\u001b[0;34m(\u001b[0m\u001b[0mr\u001b[0m\u001b[0;34m.\u001b[0m\u001b[0mtext\u001b[0m\u001b[0;34m,\u001b[0m \u001b[0;34m'html.parser'\u001b[0m\u001b[0;34m,\u001b[0m \u001b[0mparse_only\u001b[0m \u001b[0;34m=\u001b[0m \u001b[0monly_a_tags\u001b[0m\u001b[0;34m)\u001b[0m\u001b[0;34m\u001b[0m\u001b[0;34m\u001b[0m\u001b[0m\n\u001b[1;32m     17\u001b[0m     \u001b[0;32mfor\u001b[0m \u001b[0mentry\u001b[0m \u001b[0;32min\u001b[0m \u001b[0msoup\u001b[0m\u001b[0;34m:\u001b[0m\u001b[0;34m\u001b[0m\u001b[0;34m\u001b[0m\u001b[0m\n",
      "\u001b[0;31mAttributeError\u001b[0m: 'Response' object has no attribute 'link'"
     ]
    }
   ],
   "source": [
    "def exception_handler(request, exception):\n",
    "    print(\"Request failed\")\n",
    "\n",
    "def dab():\n",
    "    # this function does nothing weee\n",
    "    dab = 1\n",
    "links = [\"https://en.wikipedia.org/wiki/Kevin_Bacon\"]* 10\n",
    "\n",
    "start = time.time()\n",
    "rs = [grequests.get(link, params = link) for link in links]\n",
    "resp = grequests.map(rs, exception_handler=exception_handler)\n",
    "print(\"Grequests time: \" + str(time.time() - start))\n",
    "for r in resp:\n",
    "    BS_time = time.time()\n",
    "    print(r.link)\n",
    "    soup = BeautifulSoup(r.text, 'html.parser', parse_only = only_a_tags)\n",
    "    for entry in soup:\n",
    "        if str(entry.contents) != \"[]\":\n",
    "            if \"/wiki/Help:\" in entry.contents[0] or \"Wikipedia articles with\" in entry.contents[0] or \"[<\" in entry.contents[0] or \"<\" in str(entry.contents[0]) or entry.contents[0] == None:\n",
    "                continue\n",
    "            else:\n",
    "                if entry.contents[0] in dismissed_links:\n",
    "                    continue\n",
    "                # If relevant, add to entries\n",
    "                dab()\n",
    "    print(\"BS time: \" + str(time.time() - BS_time))\n",
    "print(\"Total time: \" + str(time.time() - start))"
   ]
  },
  {
   "cell_type": "code",
   "execution_count": 17,
   "metadata": {},
   "outputs": [
    {
     "name": "stdout",
     "output_type": "stream",
     "text": [
      "Never-gonna_Give_You_Up\n"
     ]
    }
   ],
   "source": [
    "import string\n",
    "fromtitle = \"never-gonna give you up\"\n",
    "fromtitle = string.capwords(fromtitle).replace(\" \", \"_\")\n",
    "print(fromtitle)"
   ]
  },
  {
   "cell_type": "code",
   "execution_count": null,
   "metadata": {},
   "outputs": [],
   "source": []
  },
  {
   "cell_type": "code",
   "execution_count": null,
   "metadata": {},
   "outputs": [],
   "source": []
  }
 ],
 "metadata": {
  "kernelspec": {
   "display_name": "Python 3",
   "language": "python",
   "name": "python3"
  },
  "language_info": {
   "codemirror_mode": {
    "name": "ipython",
    "version": 3
   },
   "file_extension": ".py",
   "mimetype": "text/x-python",
   "name": "python",
   "nbconvert_exporter": "python",
   "pygments_lexer": "ipython3",
   "version": "3.8.5"
  }
 },
 "nbformat": 4,
 "nbformat_minor": 4
}
