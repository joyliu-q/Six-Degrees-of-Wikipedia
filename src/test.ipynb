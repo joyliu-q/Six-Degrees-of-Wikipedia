{
 "cells": [
  {
   "cell_type": "code",
   "execution_count": 35,
   "metadata": {},
   "outputs": [],
   "source": [
    "from bs4 import BeautifulSoup, SoupStrainer\n",
    "import numpy as np\n",
    "from urllib.request import urlopen\n",
    "from urllib.error import URLError, HTTPError\n",
    "import time \n",
    "import sys\n",
    "import concurrent\n",
    "from concurrent.futures import ProcessPoolExecutor, ThreadPoolExecutor, Future, as_completed, wait\n",
    "import argparse\n",
    "import grequests\n",
    "dismissed_links = [\"Talk\", \"Categories\", \"Contributions\", \"Article\", \"Read\", \"Main page\", \"Contents\", \"Current events\", \"Random article\", \"About Wikipedia\", \"Help\", \"Community portal\", \"Recent changes\", \"Upload file\", \"What links here\", \"Related changes\", \"Upload file\", \"Special pages\", \"About Wikipedia\", \"Disclaimers\", \"Articles with short description\", \"Short description matches Wikidata\", \"Wikipedia indefinitely semi-protected biographies of living people\", \"Use mdy dates from October 2016\", \"Articles with hCards\", \"BLP articles lacking sources from October 2017\", \"All BLP articles lacking sources\", \"Commons category link from Wikidata\", \"Articles with IBDb links\", \"Internet Off-Broadway Database person ID same as Wikidata\", \"Short description is different from Wikidata\", \"PMID\", \"ISBN\", \"doi\"] "
   ]
  },
  {
   "cell_type": "code",
   "execution_count": 36,
   "metadata": {},
   "outputs": [],
   "source": [
    "only_a_tags = SoupStrainer(\"a\", href=lambda href: href and href.startswith('/wiki/'))\n",
    "wee = 0\n",
    "def load(url):\n",
    "    global wee\n",
    "    response = urlopen(\"https://en.wikipedia.org/wiki/Bacon\")\n",
    "    soup = BeautifulSoup(response, 'html.parser', parse_only = only_a_tags)\n",
    "    wee += 1"
   ]
  },
  {
   "cell_type": "code",
   "execution_count": 57,
   "metadata": {},
   "outputs": [
    {
     "name": "stdout",
     "output_type": "stream",
     "text": [
      "Grequests time: 0.7311270236968994\n",
      "BS time: 0.1317281723022461\n",
      "For loop time: 0.007544040679931641\n",
      "BS time: 0.16977190971374512\n",
      "For loop time: 0.004895925521850586\n",
      "BS time: 0.13703513145446777\n",
      "For loop time: 0.0038437843322753906\n",
      "Total time: 1.1935977935791016\n"
     ]
    }
   ],
   "source": [
    "def exception_handler(request, exception):\n",
    "    print(\"Request failed\")\n",
    "\n",
    "def dab():\n",
    "    # this function does nothing weee\n",
    "    dab = 1\n",
    "    \n",
    "\n",
    "links = [[\"https://en.wikipedia.org/wiki/Kevin_Bacon\",1], [\"https://en.wikipedia.org/wiki/Kevin_Bacon\",1], [\"https://en.wikipedia.org/wiki/Kevin_Bacon\",1]]\n",
    "\n",
    "start = time.time()\n",
    "rs = [grequests.get(link[0], params = link[0]) for link in links]\n",
    "resp = grequests.map(rs, exception_handler=exception_handler)\n",
    "\n",
    "print(\"Grequests time: \" + str(time.time() - start))\n",
    "\n",
    "for r in resp:\n",
    "    before_BS_time = time.time()\n",
    "    soup = BeautifulSoup(r.text, \"lxml\", parse_only = only_a_tags)\n",
    "    soup = soup.find_all(\"a\")\n",
    "    \n",
    "    print(\"BS time: \" + str(time.time() - before_BS_time))\n",
    "    \n",
    "    after_BS_time = time.time()\n",
    "    for entry in soup:\n",
    "        if str(entry.get('title')) != \"[]\":\n",
    "            if \"/wiki/Help:\" in entry.get('href') or entry.get('title') == None or \"Wikipedia articles with\" in entry.get('title') or \"[<\" in entry.get('title') or \"<\" in str(entry.get('href')):\n",
    "                continue\n",
    "            else:\n",
    "                if entry.get('title') in dismissed_links:\n",
    "                    continue\n",
    "                # If relevant, add to entries\n",
    "                dab()\n",
    "                \n",
    "    print(\"For loop time: \" + str(time.time() - after_BS_time))\n",
    "print(\"Total time: \" + str(time.time() - start))"
   ]
  },
  {
   "cell_type": "code",
   "execution_count": 27,
   "metadata": {},
   "outputs": [
    {
     "data": {
      "text/plain": [
       "['/Users/joyliu/Desktop/Projects/Six_degrees_of_wikipedia/src',\n",
       " '/Users/joyliu/Dropbox',\n",
       " '/usr/local/Cellar/python@3.8/3.8.5/Frameworks/Python.framework/Versions/3.8/lib/python38.zip',\n",
       " '/usr/local/Cellar/python@3.8/3.8.5/Frameworks/Python.framework/Versions/3.8/lib/python3.8',\n",
       " '/usr/local/Cellar/python@3.8/3.8.5/Frameworks/Python.framework/Versions/3.8/lib/python3.8/lib-dynload',\n",
       " '',\n",
       " '/Users/joyliu/Library/Python/3.8/lib/python/site-packages',\n",
       " '/usr/local/lib/python3.8/site-packages',\n",
       " '/usr/local/Cellar/protobuf/3.12.4/libexec/lib/python3.8/site-packages',\n",
       " '/usr/local/lib/python3.8/site-packages/IPython/extensions',\n",
       " '/Users/joyliu/.ipython']"
      ]
     },
     "execution_count": 27,
     "metadata": {},
     "output_type": "execute_result"
    }
   ],
   "source": [
    "sys.path"
   ]
  }
 ],
 "metadata": {
  "kernelspec": {
   "display_name": "Python 3",
   "language": "python",
   "name": "python3"
  },
  "language_info": {
   "codemirror_mode": {
    "name": "ipython",
    "version": 3
   },
   "file_extension": ".py",
   "mimetype": "text/x-python",
   "name": "python",
   "nbconvert_exporter": "python",
   "pygments_lexer": "ipython3",
   "version": "3.8.5"
  }
 },
 "nbformat": 4,
 "nbformat_minor": 4
}
